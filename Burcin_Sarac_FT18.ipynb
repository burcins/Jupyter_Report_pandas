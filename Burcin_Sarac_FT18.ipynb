{
 "cells": [
  {
   "cell_type": "markdown",
   "metadata": {},
   "source": [
    "# Exploring US Flights Data\n",
    "\n",
    "The dataset, used for this project, can be found in [Airline On-Time Performance Data](https://www.transtats.bts.gov/Tables.asp?DB_ID=120&DB_Name=Airline%20On-Time%20Performance%20Data&DB_Short_Name=On-Time#) link.\n",
    "\n",
    "---\n",
    "\n",
    "> Burcin Sarac <br />\n",
    "> M.Sc. Business Analytics FT-18 <br >"
   ]
  },
  {
   "cell_type": "code",
   "execution_count": 336,
   "metadata": {},
   "outputs": [],
   "source": [
    "import os\n",
    "import pandas as pd\n",
    "import matplotlib.pyplot as plt"
   ]
  },
  {
   "cell_type": "code",
   "execution_count": 11,
   "metadata": {},
   "outputs": [],
   "source": [
    "os.chdir(\"E:/dersler/Practicum 1/assignment\")"
   ]
  },
  {
   "cell_type": "code",
   "execution_count": 24,
   "metadata": {},
   "outputs": [],
   "source": [
    "flights = pd.read_csv(\"flights.csv\", parse_dates=['FL_DATE', 'DEP_TIME','ARR_TIME'])"
   ]
  },
  {
   "cell_type": "code",
   "execution_count": 14,
   "metadata": {},
   "outputs": [
    {
     "data": {
      "text/plain": [
       "(5674621, 20)"
      ]
     },
     "execution_count": 14,
     "metadata": {},
     "output_type": "execute_result"
    }
   ],
   "source": [
    "flights.shape"
   ]
  },
  {
   "cell_type": "code",
   "execution_count": 19,
   "metadata": {
    "scrolled": true
   },
   "outputs": [
    {
     "data": {
      "text/html": [
       "<div>\n",
       "<style scoped>\n",
       "    .dataframe tbody tr th:only-of-type {\n",
       "        vertical-align: middle;\n",
       "    }\n",
       "\n",
       "    .dataframe tbody tr th {\n",
       "        vertical-align: top;\n",
       "    }\n",
       "\n",
       "    .dataframe thead th {\n",
       "        text-align: right;\n",
       "    }\n",
       "</style>\n",
       "<table border=\"1\" class=\"dataframe\">\n",
       "  <thead>\n",
       "    <tr style=\"text-align: right;\">\n",
       "      <th></th>\n",
       "      <th>FL_DATE</th>\n",
       "      <th>TAIL_NUM</th>\n",
       "      <th>CARRIER</th>\n",
       "      <th>ORIGIN</th>\n",
       "      <th>ORIGIN_CITY_NAME</th>\n",
       "      <th>DEST</th>\n",
       "      <th>DEST_CITY_NAME</th>\n",
       "      <th>DEP_TIME</th>\n",
       "      <th>DEP_DELAY</th>\n",
       "      <th>ARR_TIME</th>\n",
       "      <th>ARR_DELAY</th>\n",
       "      <th>CANCELLED</th>\n",
       "      <th>CANCELLATION_CODE</th>\n",
       "      <th>DIVERTED</th>\n",
       "      <th>CARRIER_DELAY</th>\n",
       "      <th>WEATHER_DELAY</th>\n",
       "      <th>NAS_DELAY</th>\n",
       "      <th>SECURITY_DELAY</th>\n",
       "      <th>LATE_AIRCRAFT_DELAY</th>\n",
       "      <th>Unnamed: 19</th>\n",
       "    </tr>\n",
       "  </thead>\n",
       "  <tbody>\n",
       "    <tr>\n",
       "      <th>0</th>\n",
       "      <td>2017-01-01</td>\n",
       "      <td>N3CGAA</td>\n",
       "      <td>AA</td>\n",
       "      <td>DEN</td>\n",
       "      <td>Denver, CO</td>\n",
       "      <td>PHX</td>\n",
       "      <td>Phoenix, AZ</td>\n",
       "      <td>1135</td>\n",
       "      <td>-10.0</td>\n",
       "      <td>1328</td>\n",
       "      <td>-17.0</td>\n",
       "      <td>0.0</td>\n",
       "      <td>NaN</td>\n",
       "      <td>0.0</td>\n",
       "      <td>NaN</td>\n",
       "      <td>NaN</td>\n",
       "      <td>NaN</td>\n",
       "      <td>NaN</td>\n",
       "      <td>NaN</td>\n",
       "      <td>NaN</td>\n",
       "    </tr>\n",
       "    <tr>\n",
       "      <th>1</th>\n",
       "      <td>2017-01-01</td>\n",
       "      <td>N3CGAA</td>\n",
       "      <td>AA</td>\n",
       "      <td>PHX</td>\n",
       "      <td>Phoenix, AZ</td>\n",
       "      <td>PDX</td>\n",
       "      <td>Portland, OR</td>\n",
       "      <td>1502</td>\n",
       "      <td>-8.0</td>\n",
       "      <td>1653</td>\n",
       "      <td>-8.0</td>\n",
       "      <td>0.0</td>\n",
       "      <td>NaN</td>\n",
       "      <td>0.0</td>\n",
       "      <td>NaN</td>\n",
       "      <td>NaN</td>\n",
       "      <td>NaN</td>\n",
       "      <td>NaN</td>\n",
       "      <td>NaN</td>\n",
       "      <td>NaN</td>\n",
       "    </tr>\n",
       "    <tr>\n",
       "      <th>2</th>\n",
       "      <td>2017-01-01</td>\n",
       "      <td>N3EVAA</td>\n",
       "      <td>AA</td>\n",
       "      <td>DCA</td>\n",
       "      <td>Washington, DC</td>\n",
       "      <td>MIA</td>\n",
       "      <td>Miami, FL</td>\n",
       "      <td>0646</td>\n",
       "      <td>-13.0</td>\n",
       "      <td>0930</td>\n",
       "      <td>-14.0</td>\n",
       "      <td>0.0</td>\n",
       "      <td>NaN</td>\n",
       "      <td>0.0</td>\n",
       "      <td>NaN</td>\n",
       "      <td>NaN</td>\n",
       "      <td>NaN</td>\n",
       "      <td>NaN</td>\n",
       "      <td>NaN</td>\n",
       "      <td>NaN</td>\n",
       "    </tr>\n",
       "    <tr>\n",
       "      <th>3</th>\n",
       "      <td>2017-01-01</td>\n",
       "      <td>N3NAAA</td>\n",
       "      <td>AA</td>\n",
       "      <td>MIA</td>\n",
       "      <td>Miami, FL</td>\n",
       "      <td>LGA</td>\n",
       "      <td>New York, NY</td>\n",
       "      <td>1402</td>\n",
       "      <td>-3.0</td>\n",
       "      <td>1646</td>\n",
       "      <td>-14.0</td>\n",
       "      <td>0.0</td>\n",
       "      <td>NaN</td>\n",
       "      <td>0.0</td>\n",
       "      <td>NaN</td>\n",
       "      <td>NaN</td>\n",
       "      <td>NaN</td>\n",
       "      <td>NaN</td>\n",
       "      <td>NaN</td>\n",
       "      <td>NaN</td>\n",
       "    </tr>\n",
       "    <tr>\n",
       "      <th>4</th>\n",
       "      <td>2017-01-01</td>\n",
       "      <td>N3FCAA</td>\n",
       "      <td>AA</td>\n",
       "      <td>PHX</td>\n",
       "      <td>Phoenix, AZ</td>\n",
       "      <td>DEN</td>\n",
       "      <td>Denver, CO</td>\n",
       "      <td>2310</td>\n",
       "      <td>16.0</td>\n",
       "      <td>0107</td>\n",
       "      <td>28.0</td>\n",
       "      <td>0.0</td>\n",
       "      <td>NaN</td>\n",
       "      <td>0.0</td>\n",
       "      <td>0.0</td>\n",
       "      <td>0.0</td>\n",
       "      <td>12.0</td>\n",
       "      <td>0.0</td>\n",
       "      <td>16.0</td>\n",
       "      <td>NaN</td>\n",
       "    </tr>\n",
       "  </tbody>\n",
       "</table>\n",
       "</div>"
      ],
      "text/plain": [
       "     FL_DATE TAIL_NUM CARRIER ORIGIN ORIGIN_CITY_NAME DEST DEST_CITY_NAME  \\\n",
       "0 2017-01-01   N3CGAA      AA    DEN       Denver, CO  PHX    Phoenix, AZ   \n",
       "1 2017-01-01   N3CGAA      AA    PHX      Phoenix, AZ  PDX   Portland, OR   \n",
       "2 2017-01-01   N3EVAA      AA    DCA   Washington, DC  MIA      Miami, FL   \n",
       "3 2017-01-01   N3NAAA      AA    MIA        Miami, FL  LGA   New York, NY   \n",
       "4 2017-01-01   N3FCAA      AA    PHX      Phoenix, AZ  DEN     Denver, CO   \n",
       "\n",
       "  DEP_TIME  DEP_DELAY ARR_TIME  ARR_DELAY  CANCELLED CANCELLATION_CODE  \\\n",
       "0     1135      -10.0     1328      -17.0        0.0               NaN   \n",
       "1     1502       -8.0     1653       -8.0        0.0               NaN   \n",
       "2     0646      -13.0     0930      -14.0        0.0               NaN   \n",
       "3     1402       -3.0     1646      -14.0        0.0               NaN   \n",
       "4     2310       16.0     0107       28.0        0.0               NaN   \n",
       "\n",
       "   DIVERTED  CARRIER_DELAY  WEATHER_DELAY  NAS_DELAY  SECURITY_DELAY  \\\n",
       "0       0.0            NaN            NaN        NaN             NaN   \n",
       "1       0.0            NaN            NaN        NaN             NaN   \n",
       "2       0.0            NaN            NaN        NaN             NaN   \n",
       "3       0.0            NaN            NaN        NaN             NaN   \n",
       "4       0.0            0.0            0.0       12.0             0.0   \n",
       "\n",
       "   LATE_AIRCRAFT_DELAY  Unnamed: 19  \n",
       "0                  NaN          NaN  \n",
       "1                  NaN          NaN  \n",
       "2                  NaN          NaN  \n",
       "3                  NaN          NaN  \n",
       "4                 16.0          NaN  "
      ]
     },
     "execution_count": 19,
     "metadata": {},
     "output_type": "execute_result"
    }
   ],
   "source": [
    "flights.head()"
   ]
  },
  {
   "cell_type": "markdown",
   "metadata": {},
   "source": [
    "## Question 1\n",
    "\n",
    "Since the DEP_DELAY column shows the difference in minutes between scheduled and actual departure time and early departures shown with negative numbers, I calculate the probability of delay in a particular airport mentioned at \"ORIGIN\" column, by using DEP_DELAY column data. For calculating this probability, I first group by the data into Departure airports(ORIGIN) by using groupby() function and I count all positive values(occured delays) and divide it to the number of all delay data by airport. When I use DEP_DELAY, I saw that there were some Null values, it seems they were mostly caused by cancelled flights. I tried calculations both dropping and keeping this Null values and it causes slightly change in mean, median and probabity values, which may lead me to draw wrong conclusions. So I decided to drop all Null values before calculations with using notnull() at all questions. \n",
    "\n",
    "After that, I dropped %1 of airports in terms of the lowest number of departures by using quantile function. 4 of total 320 locations dropped according to this criteria. \n",
    "\n",
    "After all, I merged these two calculations by matching ORIGIN data using merge() function in pandas. I use left join at this merging stage to avoid to get back the outlier data, which was dropped at the previous step. In other words, I keep ORIGIN data from dropped dataset and match the values in this column with the probabilities. With this, unmatched ORIGIN values, which are still kept in probability dataset, will drop automatically. \n",
    "\n",
    "At last, I again use groupby() function in ORIGIN to split the row data into groups and calculate mean and median of each airport(ORIGIN). And I merge these values with the previously created data frame to collect probability, mean and median of delays in every single airport."
   ]
  },
  {
   "cell_type": "code",
   "execution_count": 428,
   "metadata": {},
   "outputs": [],
   "source": [
    "delayprob = (flights.loc[(flights.DEP_DELAY>0) &(flights.DEP_DELAY.notnull())].groupby(\"ORIGIN\").DEP_DELAY.count()/flights.loc[flights.DEP_DELAY.notnull()].groupby(\"ORIGIN\").DEP_DELAY.count()).sort_values(ascending=False)"
   ]
  },
  {
   "cell_type": "code",
   "execution_count": 439,
   "metadata": {},
   "outputs": [
    {
     "data": {
      "text/plain": [
       "ORIGIN\n",
       "SWO    1.000000\n",
       "TKI    1.000000\n",
       "GGG    0.833333\n",
       "MVY    0.668085\n",
       "UST    0.600000\n",
       "ACK    0.562986\n",
       "HYA    0.559140\n",
       "BQN    0.548326\n",
       "DAL    0.526197\n",
       "HOU    0.501605\n",
       "BPT    0.500000\n",
       "OTH    0.484211\n",
       "MDW    0.479777\n",
       "OAK    0.479249\n",
       "GUM    0.450549\n",
       "WYS    0.449782\n",
       "ADK    0.438776\n",
       "SUX    0.428571\n",
       "LAX    0.427414\n",
       "MMH    0.426667\n",
       "LAS    0.422838\n",
       "STL    0.412243\n",
       "FLL    0.410455\n",
       "STS    0.410305\n",
       "BUR    0.401379\n",
       "SWF    0.398292\n",
       "SFO    0.397707\n",
       "BWI    0.397331\n",
       "IAG    0.396040\n",
       "APN    0.389439\n",
       "         ...   \n",
       "COU    0.174267\n",
       "GCC    0.173173\n",
       "PIH    0.172979\n",
       "CLL    0.172734\n",
       "BET    0.172377\n",
       "LAR    0.171334\n",
       "FLG    0.170862\n",
       "MFE    0.169838\n",
       "RKS    0.169440\n",
       "HYS    0.166392\n",
       "DRO    0.165767\n",
       "COD    0.163952\n",
       "HIB    0.161631\n",
       "RHI    0.160109\n",
       "FSM    0.159449\n",
       "GFK    0.155942\n",
       "ROW    0.150655\n",
       "BTM    0.143939\n",
       "GTF    0.141777\n",
       "TXK    0.138889\n",
       "BIL    0.135160\n",
       "INL    0.132901\n",
       "GCK    0.132597\n",
       "LCH    0.130471\n",
       "HLN    0.125895\n",
       "HOB    0.125612\n",
       "CPR    0.123288\n",
       "GJT    0.117829\n",
       "BRO    0.112069\n",
       "LWS    0.086551\n",
       "Name: DEP_DELAY, Length: 320, dtype: float64"
      ]
     },
     "execution_count": 439,
     "metadata": {},
     "output_type": "execute_result"
    }
   ],
   "source": [
    "delayprob"
   ]
  },
  {
   "cell_type": "code",
   "execution_count": 446,
   "metadata": {},
   "outputs": [],
   "source": [
    "origin = flights['ORIGIN'].value_counts()"
   ]
  },
  {
   "cell_type": "code",
   "execution_count": 341,
   "metadata": {
    "scrolled": true
   },
   "outputs": [],
   "source": [
    "origincutted = origin.loc[origin>origin.quantile(0.01)]"
   ]
  },
  {
   "cell_type": "code",
   "execution_count": 342,
   "metadata": {},
   "outputs": [
    {
     "data": {
      "text/plain": [
       "316"
      ]
     },
     "execution_count": 342,
     "metadata": {},
     "output_type": "execute_result"
    }
   ],
   "source": [
    "origincutted.count()"
   ]
  },
  {
   "cell_type": "code",
   "execution_count": 343,
   "metadata": {},
   "outputs": [],
   "source": [
    "origincutted = origincutted.reset_index()"
   ]
  },
  {
   "cell_type": "code",
   "execution_count": 344,
   "metadata": {},
   "outputs": [],
   "source": [
    "origincutted.columns = ['ORIGIN','TotalFlight']"
   ]
  },
  {
   "cell_type": "code",
   "execution_count": 429,
   "metadata": {},
   "outputs": [],
   "source": [
    "delaysmerged = pd.merge(origincutted,delayprob.to_frame('probofdelay'),how='left', on='ORIGIN')"
   ]
  },
  {
   "cell_type": "code",
   "execution_count": 430,
   "metadata": {},
   "outputs": [
    {
     "data": {
      "text/html": [
       "<div>\n",
       "<style scoped>\n",
       "    .dataframe tbody tr th:only-of-type {\n",
       "        vertical-align: middle;\n",
       "    }\n",
       "\n",
       "    .dataframe tbody tr th {\n",
       "        vertical-align: top;\n",
       "    }\n",
       "\n",
       "    .dataframe thead th {\n",
       "        text-align: right;\n",
       "    }\n",
       "</style>\n",
       "<table border=\"1\" class=\"dataframe\">\n",
       "  <thead>\n",
       "    <tr style=\"text-align: right;\">\n",
       "      <th></th>\n",
       "      <th>ORIGIN</th>\n",
       "      <th>TotalFlight</th>\n",
       "      <th>probofdelay</th>\n",
       "    </tr>\n",
       "  </thead>\n",
       "  <tbody>\n",
       "    <tr>\n",
       "      <th>0</th>\n",
       "      <td>ATL</td>\n",
       "      <td>364655</td>\n",
       "      <td>0.359352</td>\n",
       "    </tr>\n",
       "    <tr>\n",
       "      <th>1</th>\n",
       "      <td>ORD</td>\n",
       "      <td>266460</td>\n",
       "      <td>0.334790</td>\n",
       "    </tr>\n",
       "    <tr>\n",
       "      <th>2</th>\n",
       "      <td>DEN</td>\n",
       "      <td>223165</td>\n",
       "      <td>0.366954</td>\n",
       "    </tr>\n",
       "    <tr>\n",
       "      <th>3</th>\n",
       "      <td>LAX</td>\n",
       "      <td>214297</td>\n",
       "      <td>0.427414</td>\n",
       "    </tr>\n",
       "    <tr>\n",
       "      <th>4</th>\n",
       "      <td>DFW</td>\n",
       "      <td>181208</td>\n",
       "      <td>0.360143</td>\n",
       "    </tr>\n",
       "  </tbody>\n",
       "</table>\n",
       "</div>"
      ],
      "text/plain": [
       "  ORIGIN  TotalFlight  probofdelay\n",
       "0    ATL       364655     0.359352\n",
       "1    ORD       266460     0.334790\n",
       "2    DEN       223165     0.366954\n",
       "3    LAX       214297     0.427414\n",
       "4    DFW       181208     0.360143"
      ]
     },
     "execution_count": 430,
     "metadata": {},
     "output_type": "execute_result"
    }
   ],
   "source": [
    "delaysmerged.head()"
   ]
  },
  {
   "cell_type": "code",
   "execution_count": 440,
   "metadata": {},
   "outputs": [
    {
     "data": {
      "text/plain": [
       "(316, 3)"
      ]
     },
     "execution_count": 440,
     "metadata": {},
     "output_type": "execute_result"
    }
   ],
   "source": [
    "delaysmerged.shape"
   ]
  },
  {
   "cell_type": "code",
   "execution_count": 431,
   "metadata": {},
   "outputs": [
    {
     "data": {
      "text/plain": [
       "ORIGIN\n",
       "YAK   -6.954738\n",
       "BET   -5.388651\n",
       "DLG   -5.285714\n",
       "Name: DEP_DELAY, dtype: float64"
      ]
     },
     "execution_count": 431,
     "metadata": {},
     "output_type": "execute_result"
    }
   ],
   "source": [
    "flights.loc[flights.DEP_DELAY.notnull()].groupby(\"ORIGIN\").DEP_DELAY.mean().sort_values().head(3)"
   ]
  },
  {
   "cell_type": "code",
   "execution_count": 432,
   "metadata": {},
   "outputs": [
    {
     "data": {
      "text/plain": [
       "ORIGIN\n",
       "YAK   -14.0\n",
       "WRG   -12.0\n",
       "CDV   -12.0\n",
       "Name: DEP_DELAY, dtype: float64"
      ]
     },
     "execution_count": 432,
     "metadata": {},
     "output_type": "execute_result"
    }
   ],
   "source": [
    "flights.loc[flights.DEP_DELAY.notnull()].groupby(\"ORIGIN\").DEP_DELAY.median().sort_values().head(3)"
   ]
  },
  {
   "cell_type": "code",
   "execution_count": 434,
   "metadata": {},
   "outputs": [],
   "source": [
    "groupmean = flights.loc[flights.DEP_DELAY.notnull()].groupby(\"ORIGIN\").DEP_DELAY.mean()"
   ]
  },
  {
   "cell_type": "code",
   "execution_count": 435,
   "metadata": {},
   "outputs": [],
   "source": [
    "delaysmerged2 = pd.merge(delaysmerged,groupmean.to_frame('meanofdelay'),how='left', on='ORIGIN')"
   ]
  },
  {
   "cell_type": "code",
   "execution_count": 436,
   "metadata": {},
   "outputs": [],
   "source": [
    "groupmedian = flights.loc[flights.DEP_DELAY.notnull()].groupby(\"ORIGIN\").DEP_DELAY.median()"
   ]
  },
  {
   "cell_type": "code",
   "execution_count": 437,
   "metadata": {},
   "outputs": [],
   "source": [
    "delaysmerged2 = pd.merge(delaysmerged2,groupmedian.to_frame('medianofdelay'),how='left', on='ORIGIN').sort_values(by=['probofdelay'], ascending=False)"
   ]
  },
  {
   "cell_type": "code",
   "execution_count": 438,
   "metadata": {},
   "outputs": [
    {
     "data": {
      "text/html": [
       "<div>\n",
       "<style scoped>\n",
       "    .dataframe tbody tr th:only-of-type {\n",
       "        vertical-align: middle;\n",
       "    }\n",
       "\n",
       "    .dataframe tbody tr th {\n",
       "        vertical-align: top;\n",
       "    }\n",
       "\n",
       "    .dataframe thead th {\n",
       "        text-align: right;\n",
       "    }\n",
       "</style>\n",
       "<table border=\"1\" class=\"dataframe\">\n",
       "  <thead>\n",
       "    <tr style=\"text-align: right;\">\n",
       "      <th></th>\n",
       "      <th>ORIGIN</th>\n",
       "      <th>TotalFlight</th>\n",
       "      <th>probofdelay</th>\n",
       "      <th>meanofdelay</th>\n",
       "      <th>medianofdelay</th>\n",
       "    </tr>\n",
       "  </thead>\n",
       "  <tbody>\n",
       "    <tr>\n",
       "      <th>293</th>\n",
       "      <td>MVY</td>\n",
       "      <td>241</td>\n",
       "      <td>0.668085</td>\n",
       "      <td>34.293617</td>\n",
       "      <td>11.0</td>\n",
       "    </tr>\n",
       "    <tr>\n",
       "      <th>310</th>\n",
       "      <td>UST</td>\n",
       "      <td>66</td>\n",
       "      <td>0.600000</td>\n",
       "      <td>59.369231</td>\n",
       "      <td>14.0</td>\n",
       "    </tr>\n",
       "    <tr>\n",
       "      <th>266</th>\n",
       "      <td>ACK</td>\n",
       "      <td>665</td>\n",
       "      <td>0.562986</td>\n",
       "      <td>30.203733</td>\n",
       "      <td>4.0</td>\n",
       "    </tr>\n",
       "    <tr>\n",
       "      <th>305</th>\n",
       "      <td>HYA</td>\n",
       "      <td>94</td>\n",
       "      <td>0.559140</td>\n",
       "      <td>17.182796</td>\n",
       "      <td>2.0</td>\n",
       "    </tr>\n",
       "    <tr>\n",
       "      <th>182</th>\n",
       "      <td>BQN</td>\n",
       "      <td>1710</td>\n",
       "      <td>0.548326</td>\n",
       "      <td>21.129501</td>\n",
       "      <td>3.0</td>\n",
       "    </tr>\n",
       "  </tbody>\n",
       "</table>\n",
       "</div>"
      ],
      "text/plain": [
       "    ORIGIN  TotalFlight  probofdelay  meanofdelay  medianofdelay\n",
       "293    MVY          241     0.668085    34.293617           11.0\n",
       "310    UST           66     0.600000    59.369231           14.0\n",
       "266    ACK          665     0.562986    30.203733            4.0\n",
       "305    HYA           94     0.559140    17.182796            2.0\n",
       "182    BQN         1710     0.548326    21.129501            3.0"
      ]
     },
     "execution_count": 438,
     "metadata": {},
     "output_type": "execute_result"
    }
   ],
   "source": [
    "delaysmerged2.head()"
   ]
  },
  {
   "cell_type": "markdown",
   "metadata": {},
   "source": [
    "It seems from results that, MVY airport has the highest probability with the ratio of 66% of flights delayed in departure. However it can be said from means of delay for example, the flight departures from UST airport has 60% probability of delay, however if it delays, the possible delay time is longer than MVY. On the other hand if HYA airport is taken into account, there is 55% posibility of departure delay occured, but the delay times were shorter. "
   ]
  },
  {
   "cell_type": "markdown",
   "metadata": {},
   "source": [
    "## Question 2\n",
    "\n",
    "This time, I use same codes only changing groupby column into Carrier for checking probability that a flight operated by the airline has a delay. "
   ]
  },
  {
   "cell_type": "code",
   "execution_count": 293,
   "metadata": {},
   "outputs": [],
   "source": [
    "delayprobbycr = (flights.loc[(flights.DEP_DELAY>0)&(flights.DEP_DELAY.notnull())].groupby(\"CARRIER\").DEP_DELAY.count()/flights.groupby(\"CARRIER\").DEP_DELAY.count()).sort_values(ascending=False)"
   ]
  },
  {
   "cell_type": "code",
   "execution_count": 294,
   "metadata": {},
   "outputs": [
    {
     "data": {
      "text/plain": [
       "CARRIER\n",
       "WN    0.468958\n",
       "VX    0.413506\n",
       "B6    0.410006\n",
       "F9    0.363760\n",
       "AA    0.319286\n",
       "UA    0.318173\n",
       "NK    0.312332\n",
       "DL    0.307152\n",
       "EV    0.286598\n",
       "HA    0.285814\n",
       "AS    0.270324\n",
       "OO    0.266412\n",
       "Name: DEP_DELAY, dtype: float64"
      ]
     },
     "execution_count": 294,
     "metadata": {},
     "output_type": "execute_result"
    }
   ],
   "source": [
    "delayprobbycr"
   ]
  },
  {
   "cell_type": "code",
   "execution_count": 311,
   "metadata": {},
   "outputs": [],
   "source": [
    "delayprobbycr = delayprobbycr.reset_index()"
   ]
  },
  {
   "cell_type": "code",
   "execution_count": 315,
   "metadata": {},
   "outputs": [],
   "source": [
    "delayprobbycr.columns = ['CARRIER','probofdelay']"
   ]
  },
  {
   "cell_type": "code",
   "execution_count": 316,
   "metadata": {},
   "outputs": [
    {
     "data": {
      "text/html": [
       "<div>\n",
       "<style scoped>\n",
       "    .dataframe tbody tr th:only-of-type {\n",
       "        vertical-align: middle;\n",
       "    }\n",
       "\n",
       "    .dataframe tbody tr th {\n",
       "        vertical-align: top;\n",
       "    }\n",
       "\n",
       "    .dataframe thead th {\n",
       "        text-align: right;\n",
       "    }\n",
       "</style>\n",
       "<table border=\"1\" class=\"dataframe\">\n",
       "  <thead>\n",
       "    <tr style=\"text-align: right;\">\n",
       "      <th></th>\n",
       "      <th>CARRIER</th>\n",
       "      <th>probofdelay</th>\n",
       "    </tr>\n",
       "  </thead>\n",
       "  <tbody>\n",
       "    <tr>\n",
       "      <th>0</th>\n",
       "      <td>WN</td>\n",
       "      <td>0.468958</td>\n",
       "    </tr>\n",
       "    <tr>\n",
       "      <th>1</th>\n",
       "      <td>VX</td>\n",
       "      <td>0.413506</td>\n",
       "    </tr>\n",
       "    <tr>\n",
       "      <th>2</th>\n",
       "      <td>B6</td>\n",
       "      <td>0.410006</td>\n",
       "    </tr>\n",
       "    <tr>\n",
       "      <th>3</th>\n",
       "      <td>F9</td>\n",
       "      <td>0.363760</td>\n",
       "    </tr>\n",
       "    <tr>\n",
       "      <th>4</th>\n",
       "      <td>AA</td>\n",
       "      <td>0.319286</td>\n",
       "    </tr>\n",
       "    <tr>\n",
       "      <th>5</th>\n",
       "      <td>UA</td>\n",
       "      <td>0.318173</td>\n",
       "    </tr>\n",
       "    <tr>\n",
       "      <th>6</th>\n",
       "      <td>NK</td>\n",
       "      <td>0.312332</td>\n",
       "    </tr>\n",
       "    <tr>\n",
       "      <th>7</th>\n",
       "      <td>DL</td>\n",
       "      <td>0.307152</td>\n",
       "    </tr>\n",
       "    <tr>\n",
       "      <th>8</th>\n",
       "      <td>EV</td>\n",
       "      <td>0.286598</td>\n",
       "    </tr>\n",
       "    <tr>\n",
       "      <th>9</th>\n",
       "      <td>HA</td>\n",
       "      <td>0.285814</td>\n",
       "    </tr>\n",
       "    <tr>\n",
       "      <th>10</th>\n",
       "      <td>AS</td>\n",
       "      <td>0.270324</td>\n",
       "    </tr>\n",
       "    <tr>\n",
       "      <th>11</th>\n",
       "      <td>OO</td>\n",
       "      <td>0.266412</td>\n",
       "    </tr>\n",
       "  </tbody>\n",
       "</table>\n",
       "</div>"
      ],
      "text/plain": [
       "   CARRIER  probofdelay\n",
       "0       WN     0.468958\n",
       "1       VX     0.413506\n",
       "2       B6     0.410006\n",
       "3       F9     0.363760\n",
       "4       AA     0.319286\n",
       "5       UA     0.318173\n",
       "6       NK     0.312332\n",
       "7       DL     0.307152\n",
       "8       EV     0.286598\n",
       "9       HA     0.285814\n",
       "10      AS     0.270324\n",
       "11      OO     0.266412"
      ]
     },
     "execution_count": 316,
     "metadata": {},
     "output_type": "execute_result"
    }
   ],
   "source": [
    "delayprobbycr"
   ]
  },
  {
   "cell_type": "code",
   "execution_count": 305,
   "metadata": {},
   "outputs": [],
   "source": [
    "crmean = flights.loc[flights.DEP_DELAY.notnull()].groupby(\"CARRIER\").DEP_DELAY.mean().sort_values(ascending=False)"
   ]
  },
  {
   "cell_type": "code",
   "execution_count": 306,
   "metadata": {},
   "outputs": [
    {
     "data": {
      "text/plain": [
       "CARRIER\n",
       "B6    16.582982\n",
       "VX    13.219399\n",
       "EV    12.689932\n",
       "F9    12.127640\n",
       "Name: DEP_DELAY, dtype: float64"
      ]
     },
     "execution_count": 306,
     "metadata": {},
     "output_type": "execute_result"
    }
   ],
   "source": [
    "crmean.head(4)"
   ]
  },
  {
   "cell_type": "code",
   "execution_count": 307,
   "metadata": {},
   "outputs": [],
   "source": [
    "crmedian = flights.loc[flights.DEP_DELAY.notnull()].groupby(\"CARRIER\").DEP_DELAY.median().sort_values(ascending=False)"
   ]
  },
  {
   "cell_type": "code",
   "execution_count": 308,
   "metadata": {},
   "outputs": [
    {
     "data": {
      "text/plain": [
       "CARRIER\n",
       "WN    0.0\n",
       "VX   -2.0\n",
       "F9   -2.0\n",
       "Name: DEP_DELAY, dtype: float64"
      ]
     },
     "execution_count": 308,
     "metadata": {},
     "output_type": "execute_result"
    }
   ],
   "source": [
    "crmedian.head(3)"
   ]
  },
  {
   "cell_type": "code",
   "execution_count": 323,
   "metadata": {},
   "outputs": [],
   "source": [
    "delaysbycr = pd.merge(delayprobbycr,crmean.to_frame('meanofdelay'),how='left', on='CARRIER')"
   ]
  },
  {
   "cell_type": "code",
   "execution_count": 325,
   "metadata": {},
   "outputs": [],
   "source": [
    "delaysbycr = pd.merge(delaysbycr,crmedian.to_frame('medianofdelay'),how='left', on='CARRIER')"
   ]
  },
  {
   "cell_type": "code",
   "execution_count": 327,
   "metadata": {},
   "outputs": [],
   "source": [
    "airlines = pd.read_csv(\"L_UNIQUE_CARRIERS.csv\")"
   ]
  },
  {
   "cell_type": "code",
   "execution_count": 330,
   "metadata": {},
   "outputs": [
    {
     "data": {
      "text/html": [
       "<div>\n",
       "<style scoped>\n",
       "    .dataframe tbody tr th:only-of-type {\n",
       "        vertical-align: middle;\n",
       "    }\n",
       "\n",
       "    .dataframe tbody tr th {\n",
       "        vertical-align: top;\n",
       "    }\n",
       "\n",
       "    .dataframe thead th {\n",
       "        text-align: right;\n",
       "    }\n",
       "</style>\n",
       "<table border=\"1\" class=\"dataframe\">\n",
       "  <thead>\n",
       "    <tr style=\"text-align: right;\">\n",
       "      <th></th>\n",
       "      <th>Code</th>\n",
       "      <th>Description</th>\n",
       "    </tr>\n",
       "  </thead>\n",
       "  <tbody>\n",
       "    <tr>\n",
       "      <th>0</th>\n",
       "      <td>02Q</td>\n",
       "      <td>Titan Airways</td>\n",
       "    </tr>\n",
       "    <tr>\n",
       "      <th>1</th>\n",
       "      <td>04Q</td>\n",
       "      <td>Tradewind Aviation</td>\n",
       "    </tr>\n",
       "  </tbody>\n",
       "</table>\n",
       "</div>"
      ],
      "text/plain": [
       "  Code         Description\n",
       "0  02Q       Titan Airways\n",
       "1  04Q  Tradewind Aviation"
      ]
     },
     "execution_count": 330,
     "metadata": {},
     "output_type": "execute_result"
    }
   ],
   "source": [
    "airlines.head(2)"
   ]
  },
  {
   "cell_type": "code",
   "execution_count": 331,
   "metadata": {},
   "outputs": [],
   "source": [
    "delaysbycr = pd.merge(delaysbycr,airlines,how='left', left_on='CARRIER',right_on='Code')"
   ]
  },
  {
   "cell_type": "code",
   "execution_count": 335,
   "metadata": {},
   "outputs": [
    {
     "data": {
      "text/html": [
       "<div>\n",
       "<style scoped>\n",
       "    .dataframe tbody tr th:only-of-type {\n",
       "        vertical-align: middle;\n",
       "    }\n",
       "\n",
       "    .dataframe tbody tr th {\n",
       "        vertical-align: top;\n",
       "    }\n",
       "\n",
       "    .dataframe thead th {\n",
       "        text-align: right;\n",
       "    }\n",
       "</style>\n",
       "<table border=\"1\" class=\"dataframe\">\n",
       "  <thead>\n",
       "    <tr style=\"text-align: right;\">\n",
       "      <th></th>\n",
       "      <th>CARRIER</th>\n",
       "      <th>probofdelay</th>\n",
       "      <th>meanofdelay</th>\n",
       "      <th>medianofdelay</th>\n",
       "      <th>Code</th>\n",
       "      <th>Description</th>\n",
       "    </tr>\n",
       "  </thead>\n",
       "  <tbody>\n",
       "    <tr>\n",
       "      <th>0</th>\n",
       "      <td>WN</td>\n",
       "      <td>0.468958</td>\n",
       "      <td>10.248374</td>\n",
       "      <td>0.0</td>\n",
       "      <td>WN</td>\n",
       "      <td>Southwest Airlines Co.</td>\n",
       "    </tr>\n",
       "    <tr>\n",
       "      <th>1</th>\n",
       "      <td>VX</td>\n",
       "      <td>0.413506</td>\n",
       "      <td>13.219399</td>\n",
       "      <td>-2.0</td>\n",
       "      <td>VX</td>\n",
       "      <td>Virgin America</td>\n",
       "    </tr>\n",
       "    <tr>\n",
       "      <th>2</th>\n",
       "      <td>B6</td>\n",
       "      <td>0.410006</td>\n",
       "      <td>16.582982</td>\n",
       "      <td>-2.0</td>\n",
       "      <td>B6</td>\n",
       "      <td>JetBlue Airways</td>\n",
       "    </tr>\n",
       "    <tr>\n",
       "      <th>3</th>\n",
       "      <td>F9</td>\n",
       "      <td>0.363760</td>\n",
       "      <td>12.127640</td>\n",
       "      <td>-2.0</td>\n",
       "      <td>F9</td>\n",
       "      <td>Frontier Airlines Inc.</td>\n",
       "    </tr>\n",
       "    <tr>\n",
       "      <th>4</th>\n",
       "      <td>AA</td>\n",
       "      <td>0.319286</td>\n",
       "      <td>8.180574</td>\n",
       "      <td>-3.0</td>\n",
       "      <td>AA</td>\n",
       "      <td>American Airlines Inc.</td>\n",
       "    </tr>\n",
       "    <tr>\n",
       "      <th>5</th>\n",
       "      <td>UA</td>\n",
       "      <td>0.318173</td>\n",
       "      <td>9.484484</td>\n",
       "      <td>-3.0</td>\n",
       "      <td>UA</td>\n",
       "      <td>United Air Lines Inc.</td>\n",
       "    </tr>\n",
       "    <tr>\n",
       "      <th>6</th>\n",
       "      <td>NK</td>\n",
       "      <td>0.312332</td>\n",
       "      <td>10.171258</td>\n",
       "      <td>-4.0</td>\n",
       "      <td>NK</td>\n",
       "      <td>Spirit Air Lines</td>\n",
       "    </tr>\n",
       "    <tr>\n",
       "      <th>7</th>\n",
       "      <td>DL</td>\n",
       "      <td>0.307152</td>\n",
       "      <td>8.497947</td>\n",
       "      <td>-2.0</td>\n",
       "      <td>DL</td>\n",
       "      <td>Delta Air Lines Inc.</td>\n",
       "    </tr>\n",
       "    <tr>\n",
       "      <th>8</th>\n",
       "      <td>EV</td>\n",
       "      <td>0.286598</td>\n",
       "      <td>12.689932</td>\n",
       "      <td>-4.0</td>\n",
       "      <td>EV</td>\n",
       "      <td>ExpressJet Airlines Inc.</td>\n",
       "    </tr>\n",
       "    <tr>\n",
       "      <th>9</th>\n",
       "      <td>HA</td>\n",
       "      <td>0.285814</td>\n",
       "      <td>1.401808</td>\n",
       "      <td>-3.0</td>\n",
       "      <td>HA</td>\n",
       "      <td>Hawaiian Airlines Inc.</td>\n",
       "    </tr>\n",
       "    <tr>\n",
       "      <th>10</th>\n",
       "      <td>AS</td>\n",
       "      <td>0.270324</td>\n",
       "      <td>2.456161</td>\n",
       "      <td>-5.0</td>\n",
       "      <td>AS</td>\n",
       "      <td>Alaska Airlines Inc.</td>\n",
       "    </tr>\n",
       "    <tr>\n",
       "      <th>11</th>\n",
       "      <td>OO</td>\n",
       "      <td>0.266412</td>\n",
       "      <td>10.325922</td>\n",
       "      <td>-4.0</td>\n",
       "      <td>OO</td>\n",
       "      <td>SkyWest Airlines Inc.</td>\n",
       "    </tr>\n",
       "  </tbody>\n",
       "</table>\n",
       "</div>"
      ],
      "text/plain": [
       "   CARRIER  probofdelay  meanofdelay  medianofdelay Code  \\\n",
       "0       WN     0.468958    10.248374            0.0   WN   \n",
       "1       VX     0.413506    13.219399           -2.0   VX   \n",
       "2       B6     0.410006    16.582982           -2.0   B6   \n",
       "3       F9     0.363760    12.127640           -2.0   F9   \n",
       "4       AA     0.319286     8.180574           -3.0   AA   \n",
       "5       UA     0.318173     9.484484           -3.0   UA   \n",
       "6       NK     0.312332    10.171258           -4.0   NK   \n",
       "7       DL     0.307152     8.497947           -2.0   DL   \n",
       "8       EV     0.286598    12.689932           -4.0   EV   \n",
       "9       HA     0.285814     1.401808           -3.0   HA   \n",
       "10      AS     0.270324     2.456161           -5.0   AS   \n",
       "11      OO     0.266412    10.325922           -4.0   OO   \n",
       "\n",
       "                 Description  \n",
       "0     Southwest Airlines Co.  \n",
       "1             Virgin America  \n",
       "2            JetBlue Airways  \n",
       "3     Frontier Airlines Inc.  \n",
       "4     American Airlines Inc.  \n",
       "5      United Air Lines Inc.  \n",
       "6           Spirit Air Lines  \n",
       "7       Delta Air Lines Inc.  \n",
       "8   ExpressJet Airlines Inc.  \n",
       "9     Hawaiian Airlines Inc.  \n",
       "10      Alaska Airlines Inc.  \n",
       "11     SkyWest Airlines Inc.  "
      ]
     },
     "execution_count": 335,
     "metadata": {},
     "output_type": "execute_result"
    }
   ],
   "source": [
    "delaysbycr"
   ]
  },
  {
   "cell_type": "markdown",
   "metadata": {},
   "source": [
    "From the results it seems that Southwest Airlines has the highest delay probability in departure. Yet, according to the mean of departure delays with them shows that, delay times were shorter than the some of other airways, which have lower probability of delay. On the other hand, Alaska Airlines delayed in 27% of its departures and the average delay time was around 2.46, which was one of the best ratios.  "
   ]
  },
  {
   "cell_type": "markdown",
   "metadata": {},
   "source": [
    "## Question 3\n",
    "\n",
    "This histogram shows the distribution of departures for airports. That is, the x-axis is bins containing flights and the y-axis is the number of airports with departing flights in each particular bin.\n",
    "\n",
    "I created \"origin\" data to draw a histogram with only filtering 'ORIGIN' column via value_counts() function. So I can see the the flight numbers in terms of departure airports. And then I used this dataset to create a histogram with .hist() function. And I also add labels and title for the graph."
   ]
  },
  {
   "cell_type": "code",
   "execution_count": 377,
   "metadata": {},
   "outputs": [],
   "source": [
    "origin = flights['ORIGIN'].value_counts()"
   ]
  },
  {
   "cell_type": "code",
   "execution_count": 452,
   "metadata": {},
   "outputs": [
    {
     "data": {
      "text/plain": [
       "Text(0.5,1,' Distribution of Departures for Airports')"
      ]
     },
     "execution_count": 452,
     "metadata": {},
     "output_type": "execute_result"
    },
    {
     "data": {
      "image/png": "[encoded data removed]",
      "text/plain": [
       "<Figure size 864x720 with 1 Axes>"
      ]
     },
     "metadata": {},
     "output_type": "display_data"
    }
   ],
   "source": [
    "origin.hist(color='blue', edgecolor='black', \n",
    "             alpha=0.5, figsize=(12, 10))\n",
    "plt.xlabel('Nr of Flights')\n",
    "plt.ylabel('Nr of Airports')\n",
    "plt.title(' Distribution of Departures for Airports')"
   ]
  },
  {
   "cell_type": "markdown",
   "metadata": {},
   "source": [
    "It can be seen from graph that, most of the airports, which is around 260, have less than 50 thousand departing flights in 2017, and there are a few outlier airports, which have more than 300 thousand departing flights only in 2017. "
   ]
  },
  {
   "cell_type": "markdown",
   "metadata": {},
   "source": [
    "## Question 4\n",
    "\n",
    "This time, I will create a plot shows the number of flights and the number of delayed flights per month of year. With this I aim to check the distribution of delayed departures by month. \n",
    "\n",
    "For drawing this plot, I decide to create a new column which includes only month data. Since I read my csv data with using parse_dates function for FL_DATE column inside read_csv() command, it allows me to shape the dates as Months, years and even days with only a single command. And this time I used dt.to_period('M') to create month column from that FL_DATE column. \n",
    "\n",
    "After creating new column, I use groupby() again in the data by grouping \"month\" column for both delayed flights and all flights numbers. And then I concatenate them with again using merge() function. This command only works with dataframes, so I first reset indexes of that newly created datasets and rename their column names. After all I use to_frame() command to merge the datasets added into the merge command with a specific column name. "
   ]
  },
  {
   "cell_type": "code",
   "execution_count": 463,
   "metadata": {},
   "outputs": [],
   "source": [
    "flights['month'] = pd.to_datetime(flights['FL_DATE']).dt.to_period('M')"
   ]
  },
  {
   "cell_type": "code",
   "execution_count": 464,
   "metadata": {},
   "outputs": [
    {
     "data": {
      "text/html": [
       "<div>\n",
       "<style scoped>\n",
       "    .dataframe tbody tr th:only-of-type {\n",
       "        vertical-align: middle;\n",
       "    }\n",
       "\n",
       "    .dataframe tbody tr th {\n",
       "        vertical-align: top;\n",
       "    }\n",
       "\n",
       "    .dataframe thead th {\n",
       "        text-align: right;\n",
       "    }\n",
       "</style>\n",
       "<table border=\"1\" class=\"dataframe\">\n",
       "  <thead>\n",
       "    <tr style=\"text-align: right;\">\n",
       "      <th></th>\n",
       "      <th>FL_DATE</th>\n",
       "      <th>TAIL_NUM</th>\n",
       "      <th>CARRIER</th>\n",
       "      <th>ORIGIN</th>\n",
       "      <th>ORIGIN_CITY_NAME</th>\n",
       "      <th>DEST</th>\n",
       "      <th>DEST_CITY_NAME</th>\n",
       "      <th>DEP_TIME</th>\n",
       "      <th>DEP_DELAY</th>\n",
       "      <th>ARR_TIME</th>\n",
       "      <th>...</th>\n",
       "      <th>CANCELLED</th>\n",
       "      <th>CANCELLATION_CODE</th>\n",
       "      <th>DIVERTED</th>\n",
       "      <th>CARRIER_DELAY</th>\n",
       "      <th>WEATHER_DELAY</th>\n",
       "      <th>NAS_DELAY</th>\n",
       "      <th>SECURITY_DELAY</th>\n",
       "      <th>LATE_AIRCRAFT_DELAY</th>\n",
       "      <th>Unnamed: 19</th>\n",
       "      <th>month</th>\n",
       "    </tr>\n",
       "  </thead>\n",
       "  <tbody>\n",
       "    <tr>\n",
       "      <th>5674616</th>\n",
       "      <td>2017-12-31</td>\n",
       "      <td>N705SW</td>\n",
       "      <td>WN</td>\n",
       "      <td>TUS</td>\n",
       "      <td>Tucson, AZ</td>\n",
       "      <td>LAX</td>\n",
       "      <td>Los Angeles, CA</td>\n",
       "      <td>1616</td>\n",
       "      <td>26.0</td>\n",
       "      <td>1653</td>\n",
       "      <td>...</td>\n",
       "      <td>0.0</td>\n",
       "      <td>NaN</td>\n",
       "      <td>0.0</td>\n",
       "      <td>4.0</td>\n",
       "      <td>0.0</td>\n",
       "      <td>0.0</td>\n",
       "      <td>0.0</td>\n",
       "      <td>19.0</td>\n",
       "      <td>NaN</td>\n",
       "      <td>2017-12</td>\n",
       "    </tr>\n",
       "    <tr>\n",
       "      <th>5674617</th>\n",
       "      <td>2017-12-31</td>\n",
       "      <td>N463WN</td>\n",
       "      <td>WN</td>\n",
       "      <td>TUS</td>\n",
       "      <td>Tucson, AZ</td>\n",
       "      <td>MDW</td>\n",
       "      <td>Chicago, IL</td>\n",
       "      <td>0843</td>\n",
       "      <td>-7.0</td>\n",
       "      <td>1251</td>\n",
       "      <td>...</td>\n",
       "      <td>0.0</td>\n",
       "      <td>NaN</td>\n",
       "      <td>0.0</td>\n",
       "      <td>NaN</td>\n",
       "      <td>NaN</td>\n",
       "      <td>NaN</td>\n",
       "      <td>NaN</td>\n",
       "      <td>NaN</td>\n",
       "      <td>NaN</td>\n",
       "      <td>2017-12</td>\n",
       "    </tr>\n",
       "    <tr>\n",
       "      <th>5674618</th>\n",
       "      <td>2017-12-31</td>\n",
       "      <td>N956WN</td>\n",
       "      <td>WN</td>\n",
       "      <td>TUS</td>\n",
       "      <td>Tucson, AZ</td>\n",
       "      <td>SAN</td>\n",
       "      <td>San Diego, CA</td>\n",
       "      <td>1451</td>\n",
       "      <td>1.0</td>\n",
       "      <td>1459</td>\n",
       "      <td>...</td>\n",
       "      <td>0.0</td>\n",
       "      <td>NaN</td>\n",
       "      <td>0.0</td>\n",
       "      <td>NaN</td>\n",
       "      <td>NaN</td>\n",
       "      <td>NaN</td>\n",
       "      <td>NaN</td>\n",
       "      <td>NaN</td>\n",
       "      <td>NaN</td>\n",
       "      <td>2017-12</td>\n",
       "    </tr>\n",
       "    <tr>\n",
       "      <th>5674619</th>\n",
       "      <td>2017-12-31</td>\n",
       "      <td>N222WN</td>\n",
       "      <td>WN</td>\n",
       "      <td>TUS</td>\n",
       "      <td>Tucson, AZ</td>\n",
       "      <td>SAN</td>\n",
       "      <td>San Diego, CA</td>\n",
       "      <td>1038</td>\n",
       "      <td>13.0</td>\n",
       "      <td>1049</td>\n",
       "      <td>...</td>\n",
       "      <td>0.0</td>\n",
       "      <td>NaN</td>\n",
       "      <td>0.0</td>\n",
       "      <td>NaN</td>\n",
       "      <td>NaN</td>\n",
       "      <td>NaN</td>\n",
       "      <td>NaN</td>\n",
       "      <td>NaN</td>\n",
       "      <td>NaN</td>\n",
       "      <td>2017-12</td>\n",
       "    </tr>\n",
       "    <tr>\n",
       "      <th>5674620</th>\n",
       "      <td>2017-12-31</td>\n",
       "      <td>N488WN</td>\n",
       "      <td>WN</td>\n",
       "      <td>TUS</td>\n",
       "      <td>Tucson, AZ</td>\n",
       "      <td>SAN</td>\n",
       "      <td>San Diego, CA</td>\n",
       "      <td>0800</td>\n",
       "      <td>-5.0</td>\n",
       "      <td>0812</td>\n",
       "      <td>...</td>\n",
       "      <td>0.0</td>\n",
       "      <td>NaN</td>\n",
       "      <td>0.0</td>\n",
       "      <td>NaN</td>\n",
       "      <td>NaN</td>\n",
       "      <td>NaN</td>\n",
       "      <td>NaN</td>\n",
       "      <td>NaN</td>\n",
       "      <td>NaN</td>\n",
       "      <td>2017-12</td>\n",
       "    </tr>\n",
       "  </tbody>\n",
       "</table>\n",
       "<p>5 rows × 21 columns</p>\n",
       "</div>"
      ],
      "text/plain": [
       "           FL_DATE TAIL_NUM CARRIER ORIGIN ORIGIN_CITY_NAME DEST  \\\n",
       "5674616 2017-12-31   N705SW      WN    TUS       Tucson, AZ  LAX   \n",
       "5674617 2017-12-31   N463WN      WN    TUS       Tucson, AZ  MDW   \n",
       "5674618 2017-12-31   N956WN      WN    TUS       Tucson, AZ  SAN   \n",
       "5674619 2017-12-31   N222WN      WN    TUS       Tucson, AZ  SAN   \n",
       "5674620 2017-12-31   N488WN      WN    TUS       Tucson, AZ  SAN   \n",
       "\n",
       "          DEST_CITY_NAME DEP_TIME  DEP_DELAY ARR_TIME   ...    CANCELLED  \\\n",
       "5674616  Los Angeles, CA     1616       26.0     1653   ...          0.0   \n",
       "5674617      Chicago, IL     0843       -7.0     1251   ...          0.0   \n",
       "5674618    San Diego, CA     1451        1.0     1459   ...          0.0   \n",
       "5674619    San Diego, CA     1038       13.0     1049   ...          0.0   \n",
       "5674620    San Diego, CA     0800       -5.0     0812   ...          0.0   \n",
       "\n",
       "         CANCELLATION_CODE DIVERTED  CARRIER_DELAY  WEATHER_DELAY  NAS_DELAY  \\\n",
       "5674616                NaN      0.0            4.0            0.0        0.0   \n",
       "5674617                NaN      0.0            NaN            NaN        NaN   \n",
       "5674618                NaN      0.0            NaN            NaN        NaN   \n",
       "5674619                NaN      0.0            NaN            NaN        NaN   \n",
       "5674620                NaN      0.0            NaN            NaN        NaN   \n",
       "\n",
       "         SECURITY_DELAY  LATE_AIRCRAFT_DELAY  Unnamed: 19   month  \n",
       "5674616             0.0                 19.0          NaN 2017-12  \n",
       "5674617             NaN                  NaN          NaN 2017-12  \n",
       "5674618             NaN                  NaN          NaN 2017-12  \n",
       "5674619             NaN                  NaN          NaN 2017-12  \n",
       "5674620             NaN                  NaN          NaN 2017-12  \n",
       "\n",
       "[5 rows x 21 columns]"
      ]
     },
     "execution_count": 464,
     "metadata": {},
     "output_type": "execute_result"
    }
   ],
   "source": [
    "flights.tail()"
   ]
  },
  {
   "cell_type": "code",
   "execution_count": 467,
   "metadata": {},
   "outputs": [],
   "source": [
    "delayedbymonth = flights.loc[(flights2.DEP_DELAY>0)&(flights.DEP_DELAY.notnull())].groupby(\"month\").DEP_DELAY.count()"
   ]
  },
  {
   "cell_type": "code",
   "execution_count": 489,
   "metadata": {},
   "outputs": [
    {
     "data": {
      "text/html": [
       "<div>\n",
       "<style scoped>\n",
       "    .dataframe tbody tr th:only-of-type {\n",
       "        vertical-align: middle;\n",
       "    }\n",
       "\n",
       "    .dataframe tbody tr th {\n",
       "        vertical-align: top;\n",
       "    }\n",
       "\n",
       "    .dataframe thead th {\n",
       "        text-align: right;\n",
       "    }\n",
       "</style>\n",
       "<table border=\"1\" class=\"dataframe\">\n",
       "  <thead>\n",
       "    <tr style=\"text-align: right;\">\n",
       "      <th></th>\n",
       "      <th>month</th>\n",
       "      <th>DEP_DELAY</th>\n",
       "    </tr>\n",
       "  </thead>\n",
       "  <tbody>\n",
       "    <tr>\n",
       "      <th>0</th>\n",
       "      <td>2017-01</td>\n",
       "      <td>168679</td>\n",
       "    </tr>\n",
       "    <tr>\n",
       "      <th>1</th>\n",
       "      <td>2017-02</td>\n",
       "      <td>123753</td>\n",
       "    </tr>\n",
       "    <tr>\n",
       "      <th>2</th>\n",
       "      <td>2017-03</td>\n",
       "      <td>167523</td>\n",
       "    </tr>\n",
       "    <tr>\n",
       "      <th>3</th>\n",
       "      <td>2017-04</td>\n",
       "      <td>163216</td>\n",
       "    </tr>\n",
       "    <tr>\n",
       "      <th>4</th>\n",
       "      <td>2017-05</td>\n",
       "      <td>177062</td>\n",
       "    </tr>\n",
       "    <tr>\n",
       "      <th>5</th>\n",
       "      <td>2017-06</td>\n",
       "      <td>197341</td>\n",
       "    </tr>\n",
       "    <tr>\n",
       "      <th>6</th>\n",
       "      <td>2017-07</td>\n",
       "      <td>196822</td>\n",
       "    </tr>\n",
       "    <tr>\n",
       "      <th>7</th>\n",
       "      <td>2017-08</td>\n",
       "      <td>188299</td>\n",
       "    </tr>\n",
       "    <tr>\n",
       "      <th>8</th>\n",
       "      <td>2017-09</td>\n",
       "      <td>124503</td>\n",
       "    </tr>\n",
       "    <tr>\n",
       "      <th>9</th>\n",
       "      <td>2017-10</td>\n",
       "      <td>145727</td>\n",
       "    </tr>\n",
       "    <tr>\n",
       "      <th>10</th>\n",
       "      <td>2017-11</td>\n",
       "      <td>125099</td>\n",
       "    </tr>\n",
       "    <tr>\n",
       "      <th>11</th>\n",
       "      <td>2017-12</td>\n",
       "      <td>168280</td>\n",
       "    </tr>\n",
       "  </tbody>\n",
       "</table>\n",
       "</div>"
      ],
      "text/plain": [
       "     month  DEP_DELAY\n",
       "0  2017-01     168679\n",
       "1  2017-02     123753\n",
       "2  2017-03     167523\n",
       "3  2017-04     163216\n",
       "4  2017-05     177062\n",
       "5  2017-06     197341\n",
       "6  2017-07     196822\n",
       "7  2017-08     188299\n",
       "8  2017-09     124503\n",
       "9  2017-10     145727\n",
       "10 2017-11     125099\n",
       "11 2017-12     168280"
      ]
     },
     "execution_count": 489,
     "metadata": {},
     "output_type": "execute_result"
    }
   ],
   "source": [
    "delayedbymonth.reset_index()"
   ]
  },
  {
   "cell_type": "code",
   "execution_count": 470,
   "metadata": {},
   "outputs": [],
   "source": [
    "flightbymonth = flights.loc[(flights.DEP_DELAY.notnull())].groupby(\"month\").DEP_DELAY.count()"
   ]
  },
  {
   "cell_type": "code",
   "execution_count": 485,
   "metadata": {},
   "outputs": [],
   "source": [
    "flightbymonth.reset_index()\n",
    "flightbymonth.columns =['month', 'NumberofFlights']"
   ]
  },
  {
   "cell_type": "code",
   "execution_count": 491,
   "metadata": {},
   "outputs": [],
   "source": [
    "flights_delays = pd.merge(flightbymonth.to_frame('NumberofFlights'),delayedbymonth.to_frame('NumberofDelays') ,how='left', on='month')"
   ]
  },
  {
   "cell_type": "code",
   "execution_count": 492,
   "metadata": {},
   "outputs": [
    {
     "data": {
      "text/html": [
       "<div>\n",
       "<style scoped>\n",
       "    .dataframe tbody tr th:only-of-type {\n",
       "        vertical-align: middle;\n",
       "    }\n",
       "\n",
       "    .dataframe tbody tr th {\n",
       "        vertical-align: top;\n",
       "    }\n",
       "\n",
       "    .dataframe thead th {\n",
       "        text-align: right;\n",
       "    }\n",
       "</style>\n",
       "<table border=\"1\" class=\"dataframe\">\n",
       "  <thead>\n",
       "    <tr style=\"text-align: right;\">\n",
       "      <th></th>\n",
       "      <th>NumberofFlights</th>\n",
       "      <th>NumberofDelays</th>\n",
       "    </tr>\n",
       "    <tr>\n",
       "      <th>month</th>\n",
       "      <th></th>\n",
       "      <th></th>\n",
       "    </tr>\n",
       "  </thead>\n",
       "  <tbody>\n",
       "    <tr>\n",
       "      <th>2017-01</th>\n",
       "      <td>441131</td>\n",
       "      <td>168679</td>\n",
       "    </tr>\n",
       "    <tr>\n",
       "      <th>2017-02</th>\n",
       "      <td>404205</td>\n",
       "      <td>123753</td>\n",
       "    </tr>\n",
       "    <tr>\n",
       "      <th>2017-03</th>\n",
       "      <td>480070</td>\n",
       "      <td>167523</td>\n",
       "    </tr>\n",
       "    <tr>\n",
       "      <th>2017-04</th>\n",
       "      <td>460931</td>\n",
       "      <td>163216</td>\n",
       "    </tr>\n",
       "    <tr>\n",
       "      <th>2017-05</th>\n",
       "      <td>482444</td>\n",
       "      <td>177062</td>\n",
       "    </tr>\n",
       "    <tr>\n",
       "      <th>2017-06</th>\n",
       "      <td>488887</td>\n",
       "      <td>197341</td>\n",
       "    </tr>\n",
       "    <tr>\n",
       "      <th>2017-07</th>\n",
       "      <td>503313</td>\n",
       "      <td>196822</td>\n",
       "    </tr>\n",
       "    <tr>\n",
       "      <th>2017-08</th>\n",
       "      <td>499444</td>\n",
       "      <td>188299</td>\n",
       "    </tr>\n",
       "    <tr>\n",
       "      <th>2017-09</th>\n",
       "      <td>443384</td>\n",
       "      <td>124503</td>\n",
       "    </tr>\n",
       "    <tr>\n",
       "      <th>2017-10</th>\n",
       "      <td>476493</td>\n",
       "      <td>145727</td>\n",
       "    </tr>\n",
       "    <tr>\n",
       "      <th>2017-11</th>\n",
       "      <td>452744</td>\n",
       "      <td>125099</td>\n",
       "    </tr>\n",
       "    <tr>\n",
       "      <th>2017-12</th>\n",
       "      <td>458881</td>\n",
       "      <td>168280</td>\n",
       "    </tr>\n",
       "  </tbody>\n",
       "</table>\n",
       "</div>"
      ],
      "text/plain": [
       "         NumberofFlights  NumberofDelays\n",
       "month                                   \n",
       "2017-01           441131          168679\n",
       "2017-02           404205          123753\n",
       "2017-03           480070          167523\n",
       "2017-04           460931          163216\n",
       "2017-05           482444          177062\n",
       "2017-06           488887          197341\n",
       "2017-07           503313          196822\n",
       "2017-08           499444          188299\n",
       "2017-09           443384          124503\n",
       "2017-10           476493          145727\n",
       "2017-11           452744          125099\n",
       "2017-12           458881          168280"
      ]
     },
     "execution_count": 492,
     "metadata": {},
     "output_type": "execute_result"
    }
   ],
   "source": [
    "flights_delays"
   ]
  },
  {
   "cell_type": "code",
   "execution_count": 524,
   "metadata": {},
   "outputs": [
    {
     "data": {
      "text/plain": [
       "Text(0.5,1,'All Flights & Delayed Flights by Month')"
      ]
     },
     "execution_count": 524,
     "metadata": {},
     "output_type": "execute_result"
    },
    {
     "data": {
      "image/png": "[encoded data removed]",
      "text/plain": [
       "<Figure size 432x288 with 1 Axes>"
      ]
     },
     "metadata": {},
     "output_type": "display_data"
    }
   ],
   "source": [
    "flights_delays.plot()\n",
    "plt.xlabel('Months')\n",
    "plt.ylabel('Nr of Flights')\n",
    "plt.title('All Flights & Delayed Flights by Month')"
   ]
  },
  {
   "cell_type": "markdown",
   "metadata": {},
   "source": [
    "From the graph it can be said that, the departure delays only differentiates on December in a negative way, in other words departure delays don't affected from monthly changes except December. On December it seems that, the flights delayed more than general trend. And there is a slight change than regular trend on March and October, it means delays occured less than expected. "
   ]
  },
  {
   "cell_type": "markdown",
   "metadata": {},
   "source": [
    "## Question 5\n",
    "\n",
    "Lastly, I try to show for each possible origin and destination, which airline has the best performance, in terms of mean departure delay. For creating this table, I used again groupby() function, but this time with three columns(ORIGIN,DEST,CARRIER) inside this command. This filter shows me best possible airlines in terms of average delay times in specific departure and arrival destinations. "
   ]
  },
  {
   "cell_type": "code",
   "execution_count": 534,
   "metadata": {},
   "outputs": [
    {
     "data": {
      "text/plain": [
       "ORIGIN  DEST  CARRIER\n",
       "RHI     IMT   OO          -33.676471\n",
       "PDX     OKC   OO          -32.000000\n",
       "HIB     INL   OO          -25.250000\n",
       "PHL     ISP   F9          -16.000000\n",
       "MSN     SFO   UA          -16.000000\n",
       "SAT     MCO   F9          -14.000000\n",
       "SIT     ANC   AS          -13.375000\n",
       "BTV     IAD   EV          -13.000000\n",
       "OMA     SFO   UA          -12.000000\n",
       "MSN     IAD   UA          -11.500000\n",
       "SDF     BOS   DL          -11.000000\n",
       "IAH     BOS   AA          -11.000000\n",
       "MOB     IAH   OO          -11.000000\n",
       "PIA     DTW   EV          -11.000000\n",
       "GJT     ATL   OO          -11.000000\n",
       "STL     IAD   EV          -11.000000\n",
       "MYR     LGA   EV          -10.000000\n",
       "DCA     DTW   OO          -10.000000\n",
       "CLE     MSN   EV          -10.000000\n",
       "MKE     IAH   UA          -10.000000\n",
       "        CLE   OO          -10.000000\n",
       "LNK     MKE   EV          -10.000000\n",
       "LGA     MHT   EV           -9.200000\n",
       "DTW     DCA   OO           -9.000000\n",
       "MSN     CLE   EV           -9.000000\n",
       "IAH     MSN   UA           -9.000000\n",
       "LGA     ORF   DL           -9.000000\n",
       "SFO     OMA   UA           -9.000000\n",
       "YAK     JNU   AS           -8.870056\n",
       "OAK     PDX   AS           -8.779221\n",
       "                            ...     \n",
       "AGS     ATL   UA          140.000000\n",
       "JAC     MSP   OO          145.000000\n",
       "PHX     LAS   F9          149.000000\n",
       "MIA     BOS   DL          150.000000\n",
       "SJC     MSP   OO          155.000000\n",
       "EWR     LAS   WN          158.750000\n",
       "MDT     IAD   EV          164.000000\n",
       "PHX     OMA   OO          169.000000\n",
       "DCA     BDL   AA          178.000000\n",
       "RNO     ORD   OO          183.500000\n",
       "MSO     BTM   OO          188.000000\n",
       "PVD     ERI   EV          195.000000\n",
       "ATL     SGF   OO          210.000000\n",
       "SMF     SEA   DL          216.250000\n",
       "STL     UIN   OO          219.000000\n",
       "BTR     DCA   UA          227.000000\n",
       "HSV     DTW   EV          228.000000\n",
       "IND     ORD   AA          230.142857\n",
       "PWM     DTW   OO          291.250000\n",
       "LGA     LEX   DL          307.000000\n",
       "IAD     MDT   EV          374.000000\n",
       "SMF     RDM   OO          387.000000\n",
       "EUG     OTH   OO          420.666667\n",
       "OMA     EWR   UA          482.333333\n",
       "PSP     BUR   OO          800.000000\n",
       "CVG     JFK   EV          888.000000\n",
       "JAX     IAD   EV          939.000000\n",
       "TVC     IMT   OO         1470.000000\n",
       "PIH     MSO   OO         1475.000000\n",
       "TVC     MQT   OO         1480.000000\n",
       "Name: DEP_DELAY, Length: 8445, dtype: float64"
      ]
     },
     "execution_count": 534,
     "metadata": {},
     "output_type": "execute_result"
    }
   ],
   "source": [
    "flights.loc[(flights.DEP_DELAY.notnull())].groupby([\"ORIGIN\",\"DEST\",\"CARRIER\"]).DEP_DELAY.mean().sort_values()"
   ]
  },
  {
   "cell_type": "markdown",
   "metadata": {},
   "source": [
    "It is hard to tell something for all destinations but for example, for flights, which depart from RHI airport and arrive to IMT directly, best option seems Skywest Airlines(OO) if only the departure delay times taken into account. From this table best possible airline option for all destinations can be interpreted. And also it can be filtered by using .loc function again to check best possible option in a specific route. "
   ]
  }
 ],
 "metadata": {
  "kernelspec": {
   "display_name": "Python 3",
   "language": "python",
   "name": "python3"
  },
  "language_info": {
   "codemirror_mode": {
    "name": "ipython",
    "version": 3
   },
   "file_extension": ".py",
   "mimetype": "text/x-python",
   "name": "python",
   "nbconvert_exporter": "python",
   "pygments_lexer": "ipython3",
   "version": "3.6.5"
  }
 },
 "nbformat": 4,
 "nbformat_minor": 2
}
